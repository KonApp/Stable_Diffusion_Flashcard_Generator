{
  "nbformat": 4,
  "nbformat_minor": 0,
  "metadata": {
    "colab": {
      "provenance": [],
      "gpuType": "T4",
      "authorship_tag": "ABX9TyMr6RZOJ/mLeVO779ifSlyb",
      "include_colab_link": true
    },
    "kernelspec": {
      "name": "python3",
      "display_name": "Python 3"
    },
    "language_info": {
      "name": "python"
    },
    "accelerator": "GPU"
  },
  "cells": [
    {
      "cell_type": "markdown",
      "metadata": {
        "id": "view-in-github",
        "colab_type": "text"
      },
      "source": [
        "<a href=\"https://colab.research.google.com/github/KonApp/Stable_Diffusion_Flashcard_Generator/blob/main/flashcard_generation.ipynb\" target=\"_parent\"><img src=\"https://colab.research.google.com/assets/colab-badge.svg\" alt=\"Open In Colab\"/></a>"
      ]
    },
    {
      "cell_type": "code",
      "source": [
        "!nvidia-smi"
      ],
      "metadata": {
        "id": "pXlgptToi6TV"
      },
      "execution_count": null,
      "outputs": []
    },
    {
      "cell_type": "code",
      "source": [
        "!pip install diffusers==0.11.1\n",
        "!pip install transformers scipy ftfy accelerate"
      ],
      "metadata": {
        "id": "iYOCoT_LiNbz"
      },
      "execution_count": null,
      "outputs": []
    },
    {
      "cell_type": "code",
      "source": [
        "import torch\n",
        "from diffusers import StableDiffusionPipeline\n",
        "\n",
        "pipe = StableDiffusionPipeline.from_pretrained(\"CompVis/stable-diffusion-v1-4\", torch_dtype=torch.float16)"
      ],
      "metadata": {
        "id": "JmiSLkCDiQRf"
      },
      "execution_count": null,
      "outputs": []
    },
    {
      "cell_type": "code",
      "source": [
        "pipe = pipe.to(\"cuda\")"
      ],
      "metadata": {
        "id": "xvtcmRwMiVpS"
      },
      "execution_count": null,
      "outputs": []
    },
    {
      "cell_type": "code",
      "source": [
        "import torch\n",
        "\n",
        "prompt = \"Child brushing teeth, ink style\"\n",
        "\n",
        "generator = torch.Generator(\"cuda\").manual_seed(1024)\n",
        "\n",
        "image = pipe(prompt, num_inference_steps=50, generator=generator).images[0]\n",
        "\n",
        "image"
      ],
      "metadata": {
        "id": "VVIuvxe0iYsB"
      },
      "execution_count": null,
      "outputs": []
    },
    {
      "cell_type": "code",
      "source": [
        "from PIL import Image\n",
        "\n",
        "def image_grid(imgs, rows, cols):\n",
        "    assert len(imgs) == rows*cols\n",
        "\n",
        "    w, h = imgs[0].size\n",
        "    grid = Image.new('RGB', size=(cols*w, rows*h))\n",
        "    grid_w, grid_h = grid.size\n",
        "\n",
        "    for i, img in enumerate(imgs):\n",
        "        grid.paste(img, box=(i%cols*w, i//cols*h))\n",
        "    return grid"
      ],
      "metadata": {
        "id": "s-iwAxPricu9"
      },
      "execution_count": null,
      "outputs": []
    },
    {
      "cell_type": "code",
      "source": [
        "num_cols = 3\n",
        "num_rows = 4\n",
        "\n",
        "prompt = [\"Help, illustration\"] * num_cols\n",
        "\n",
        "all_images = []\n",
        "for i in range(num_rows):\n",
        "  images = pipe(prompt, num_inference_steps=50).images\n",
        "  all_images.extend(images)\n",
        "\n",
        "grid = image_grid(all_images, rows=num_rows, cols=num_cols)\n",
        "grid"
      ],
      "metadata": {
        "id": "SSQoTDMNi0ht"
      },
      "execution_count": null,
      "outputs": []
    },
    {
      "cell_type": "code",
      "source": [
        "ch = input(\"which images would you like to save\")\n",
        "all_images[int(ch)].save(\"./astro.png\")"
      ],
      "metadata": {
        "id": "h_aLZsSxlHkS"
      },
      "execution_count": null,
      "outputs": []
    },
    {
      "cell_type": "code",
      "source": [
        "import json\n",
        "import time\n",
        "import os\n",
        "\n",
        "!rm -r ./flashcards/\n",
        "os.mkdir(\"./flashcards/\")\n",
        "\n",
        "from IPython.core.interactiveshell import InteractiveShell\n",
        "\n",
        "InteractiveShell.ast_node_interactivity = 'all'\n",
        "\n",
        "num_cols = 3\n",
        "num_rows = 3\n",
        "\n",
        "with open('./flashcards.json', 'r') as fcc_file:\n",
        "    fcc_data = json.load(fcc_file)\n",
        "\n",
        "    for i in fcc_data:\n",
        "      print(i['prompt'])\n",
        "      prompt = [i['prompt']] *num_cols\n",
        "      all_images = []\n",
        "      for j in range(num_rows):\n",
        "        images = pipe(prompt, num_inference_steps=50).images\n",
        "        all_images.extend(images)\n",
        "      grid = image_grid(all_images, rows=num_rows, cols=num_cols)\n",
        "      grid\n",
        "      ch = input(\"Select an image to save\")\n",
        "      all_images[int(ch)].save(\"./flashcards/\"+i[\"name\"]+\".png\")"
      ],
      "metadata": {
        "id": "4VlvoAYPnl8V"
      },
      "execution_count": null,
      "outputs": []
    },
    {
      "cell_type": "code",
      "source": [
        "!zip ./flashcards.zip ./flashcards/"
      ],
      "metadata": {
        "id": "xdhzLzddmJ9V"
      },
      "execution_count": null,
      "outputs": []
    }
  ]
}